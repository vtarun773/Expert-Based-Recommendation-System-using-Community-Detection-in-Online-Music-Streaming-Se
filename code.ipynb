{
 "cells": [
  {
   "cell_type": "code",
   "execution_count": null,
   "metadata": {
    "id": "4VxY8DMIQ77Z"
   },
   "outputs": [],
   "source": [
    "import numpy as np "
   ]
  },
  {
   "cell_type": "code",
   "execution_count": null,
   "metadata": {
    "id": "0LhVWjvZRnV0"
   },
   "outputs": [],
   "source": [
    "import networkx as nx\n"
   ]
  },
  {
   "cell_type": "code",
   "execution_count": null,
   "metadata": {
    "id": "fbxMlgvcR329"
   },
   "outputs": [],
   "source": [
    "import pandas as pd"
   ]
  },
  {
   "cell_type": "code",
   "execution_count": null,
   "metadata": {
    "id": "XAKNlhUhSDSZ"
   },
   "outputs": [],
   "source": [
    "import json\n"
   ]
  },
  {
   "cell_type": "code",
   "execution_count": null,
   "metadata": {
    "id": "s8je1FLiSEzz"
   },
   "outputs": [],
   "source": [
    "import matplotlib.pyplot as plt\n"
   ]
  },
  {
   "cell_type": "code",
   "execution_count": null,
   "metadata": {
    "id": "TEkOvcW8SE7s"
   },
   "outputs": [],
   "source": [
    "from collections import Counter\n"
   ]
  },
  {
   "cell_type": "code",
   "execution_count": null,
   "metadata": {
    "id": "AuyobsZmSE8q"
   },
   "outputs": [],
   "source": [
    "import community\n"
   ]
  },
  {
   "cell_type": "code",
   "execution_count": null,
   "metadata": {
    "id": "-_cwSyIrSFAR"
   },
   "outputs": [],
   "source": [
    "import os\n"
   ]
  },
  {
   "cell_type": "code",
   "execution_count": null,
   "metadata": {
    "id": "rNLlhpFHSFBT"
   },
   "outputs": [],
   "source": [
    "g_hr = nx.read_edgelist('/content/HR_edges.csv', delimiter = ',')\n"
   ]
  },
  {
   "cell_type": "code",
   "execution_count": null,
   "metadata": {
    "id": "yozyLm-sSFD2"
   },
   "outputs": [],
   "source": [
    "g_hu = nx.read_edgelist('/content/HU_edges.csv', delimiter = ',')\n"
   ]
  },
  {
   "cell_type": "code",
   "execution_count": null,
   "metadata": {
    "id": "wv2etVUdSFFI"
   },
   "outputs": [],
   "source": [
    "g_ro = nx.read_edgelist('/content/RO_edges.csv', delimiter = ',')\n"
   ]
  },
  {
   "cell_type": "code",
   "execution_count": null,
   "metadata": {
    "colab": {
     "base_uri": "https://localhost:8080/"
    },
    "id": "8HhnGWlHSFJj",
    "outputId": "5b4fea8f-0d5f-4237-8905-0eda7ee893f5"
   },
   "outputs": [
    {
     "name": "stdout",
     "output_type": "stream",
     "text": [
      "CROASIA GRAPH\n"
     ]
    }
   ],
   "source": [
    "print('CROASIA GRAPH')\n"
   ]
  },
  {
   "cell_type": "code",
   "execution_count": null,
   "metadata": {
    "id": "C3yb5hxfaaHC"
   },
   "outputs": [],
   "source": [
    "def general_graph_properties(g):\n",
    "    ### (a) Basic properties of the network ### \n",
    "\n",
    "    # Number of nodes\n",
    "    print(\"The network has\", g.number_of_nodes(), \"nodes\")\n",
    "\n",
    "    # Number of edges\n",
    "    print(\"The network has\", g.number_of_edges(), \"edges\")\n",
    "\n",
    "    # Clustering coefficient\n",
    "    print(\"The average clustering coefficient of the original network is\",\"%.2f\" %nx.average_clustering(g))\n",
    "\n",
    "    # Is the graph connected\n",
    "    print(\"Is the graph connected?\", nx.is_connected(g))\n",
    "\n",
    "    # i. Number of connected components\n",
    "    print(\"The network has\", nx.number_connected_components(g), \"connected components\")\n",
    "\n",
    "    # Distribution of the sizes of the connected components\n",
    "\n",
    "    # List of connected components sizes \n",
    "    sizes = [len(c) for c in sorted(nx.connected_components(g), \n",
    "                            key=len, \n",
    "                            reverse=True)]\n",
    "\n",
    "    # plot the distribution of connected components\n",
    "    plt.hist(np.log(sizes), color = 'blue')\n",
    "    plt.title('Distribution of connected components size')\n",
    "    plt.xlabel('Size')\n",
    "    plt.ylabel('Count')\n",
    "    plt.show()\n",
    "\n",
    "    # The giant connected component (GCC) \n",
    "    lcc = max(nx.connected_components(g), key=len) # CC Node IDs\n",
    "    x =[g.subgraph(c) for c in nx.connected_components(g)]\n",
    "    gcc = max(x, key=len)\n",
    "\n",
    "    print(\"The giant connected component has\",gcc.number_of_nodes(), \"nodes\")\n",
    "    print(\"The giant connected component has\",gcc.number_of_edges(), \"edges\")\n",
    "    \n",
    "    frac_nodes = gcc.number_of_nodes()/g.number_of_nodes()\n",
    "    frac_edges = gcc.number_of_edges()/g.number_of_edges()\n",
    "\n",
    "    print(\"The giant connected component accounts for\",\n",
    "          \"%.2f\" % frac_nodes, \"% of the network's nodes\")\n",
    "    print(\"The giant connected component has\",\n",
    "          \"%.2f\" % frac_edges,\"% of the network's edges\")\n",
    "\n",
    "    ### Analysis of the degree distribution\n",
    "\n",
    "    ## Degrees ##\n",
    "    # Degrees list\n",
    "    degree = list(g.degree())\n",
    "    d = [j for i,j in degree]\n",
    "    d = sorted(d, reverse=True)\n",
    "\n",
    "    print(\"The minimum degree of the graph is\", np.min(d))\n",
    "    print(\"The maximum degree of the graph is\", np.max(d))\n",
    "    print(\"The median degree of the graph is\",\"%.0f\" % np.median(d))\n",
    "    print(\"The mean degree of the graph is\",\"%.2f\" %np.mean(d))\n",
    "\n",
    "    # Degree distribution visualization\n",
    "    plt.hist(np.log(d), color = 'blue')\n",
    "    plt.title('Distribution of degrees')\n",
    "    plt.xlabel('Degree')\n",
    "    plt.ylabel('Count')\n",
    "    plt.show()\n",
    "    ### Triangles ###\n",
    "\n",
    "    # Total number of triangles in the GCC\n",
    "    triangles = nx.triangles(gcc).values()\n",
    "    triangles = list(triangles)\n",
    "    t = np.sum(triangles)\n",
    "\n",
    "    print(\"The GCC contains\", t, \"triangles\")\n",
    "\n",
    "    # Triangle participation distribution\n",
    "    triangles = [x for x in triangles if x != 0] \n",
    "\n",
    "    plt.hist(np.log(triangles), color = 'blue')\n",
    "    plt.title('Triangle participation distribution')\n",
    "    plt.xlabel('log(Triangles)')\n",
    "    plt.ylabel('Count')\n",
    "    plt.show()\n"
   ]
  },
  {
   "cell_type": "code",
   "execution_count": null,
   "metadata": {
    "colab": {
     "base_uri": "https://localhost:8080/",
     "height": 1000
    },
    "id": "93LvslYhanlG",
    "outputId": "5f35050c-1eeb-48e4-f790-b5ea958e513a"
   },
   "outputs": [
    {
     "name": "stdout",
     "output_type": "stream",
     "text": [
      "The network has 54575 nodes\n",
      "The network has 498203 edges\n",
      "The average clustering coefficient of the original network is 0.14\n",
      "Is the graph connected? False\n",
      "The network has 2 connected components\n"
     ]
    },
    {
     "data": {
      "image/png": "[encoded data removed]",
      "text/plain": [
       "<Figure size 432x288 with 1 Axes>"
      ]
     },
     "metadata": {
      "needs_background": "light",
      "tags": []
     },
     "output_type": "display_data"
    },
    {
     "name": "stdout",
     "output_type": "stream",
     "text": [
      "The giant connected component has 54573 nodes\n",
      "The giant connected component has 498202 edges\n",
      "The giant connected component accounts for 1.00 % of the network's nodes\n",
      "The giant connected component has 1.00 % of the network's edges\n",
      "The minimum degree of the graph is 1\n",
      "The maximum degree of the graph is 420\n",
      "The median degree of the graph is 13\n",
      "The mean degree of the graph is 18.26\n"
     ]
    },
    {
     "data": {
      "image/png": "[encoded data removed]",
      "text/plain": [
       "<Figure size 432x288 with 1 Axes>"
      ]
     },
     "metadata": {
      "needs_background": "light",
      "tags": []
     },
     "output_type": "display_data"
    },
    {
     "name": "stdout",
     "output_type": "stream",
     "text": [
      "The GCC contains 1992996 triangles\n"
     ]
    },
    {
     "data": {
      "image/png": "[encoded data removed]",
      "text/plain": [
       "<Figure size 432x288 with 1 Axes>"
      ]
     },
     "metadata": {
      "needs_background": "light",
      "tags": []
     },
     "output_type": "display_data"
    }
   ],
   "source": [
    "general_graph_properties(g_hr)"
   ]
  },
  {
   "cell_type": "code",
   "execution_count": null,
   "metadata": {
    "colab": {
     "base_uri": "https://localhost:8080/",
     "height": 1000
    },
    "id": "MCB6-h34cPxW",
    "outputId": "562e170f-5d4c-4498-93bc-1fbccbbdcb11"
   },
   "outputs": [
    {
     "name": "stdout",
     "output_type": "stream",
     "text": [
      "HUNGARY GRAPH\n",
      "The network has 47540 nodes\n",
      "The network has 222888 edges\n",
      "The average clustering coefficient of the original network is 0.12\n",
      "Is the graph connected? False\n",
      "The network has 2 connected components\n"
     ]
    },
    {
     "data": {
      "image/png": "[encoded data removed]",
      "text/plain": [
       "<Figure size 432x288 with 1 Axes>"
      ]
     },
     "metadata": {
      "needs_background": "light",
      "tags": []
     },
     "output_type": "display_data"
    },
    {
     "name": "stdout",
     "output_type": "stream",
     "text": [
      "The giant connected component has 47538 nodes\n",
      "The giant connected component has 222887 edges\n",
      "The giant connected component accounts for 1.00 % of the network's nodes\n",
      "The giant connected component has 1.00 % of the network's edges\n",
      "The minimum degree of the graph is 1\n",
      "The maximum degree of the graph is 112\n",
      "The median degree of the graph is 8\n",
      "The mean degree of the graph is 9.38\n"
     ]
    },
    {
     "data": {
      "image/png": "[encoded data removed]",
      "text/plain": [
       "<Figure size 432x288 with 1 Axes>"
      ]
     },
     "metadata": {
      "needs_background": "light",
      "tags": []
     },
     "output_type": "display_data"
    },
    {
     "name": "stdout",
     "output_type": "stream",
     "text": [
      "The GCC contains 294261 triangles\n"
     ]
    },
    {
     "data": {
      "image/png": "[encoded data removed]",
      "text/plain": [
       "<Figure size 432x288 with 1 Axes>"
      ]
     },
     "metadata": {
      "needs_background": "light",
      "tags": []
     },
     "output_type": "display_data"
    }
   ],
   "source": [
    "print('HUNGARY GRAPH')\n",
    "general_graph_properties(g_hu)"
   ]
  },
  {
   "cell_type": "code",
   "execution_count": null,
   "metadata": {
    "colab": {
     "base_uri": "https://localhost:8080/",
     "height": 1000
    },
    "id": "te4Cg0qfceWd",
    "outputId": "efab47ef-034f-4899-dd9e-51079f4653e1"
   },
   "outputs": [
    {
     "name": "stdout",
     "output_type": "stream",
     "text": [
      "ROMANIA GRAPH\n",
      "The network has 41775 nodes\n",
      "The network has 125827 edges\n",
      "The average clustering coefficient of the original network is 0.09\n",
      "Is the graph connected? False\n",
      "The network has 2 connected components\n"
     ]
    },
    {
     "data": {
      "image/png": "[encoded data removed]",
      "text/plain": [
       "<Figure size 432x288 with 1 Axes>"
      ]
     },
     "metadata": {
      "needs_background": "light",
      "tags": []
     },
     "output_type": "display_data"
    },
    {
     "name": "stdout",
     "output_type": "stream",
     "text": [
      "The giant connected component has 41773 nodes\n",
      "The giant connected component has 125826 edges\n",
      "The giant connected component accounts for 1.00 % of the network's nodes\n",
      "The giant connected component has 1.00 % of the network's edges\n",
      "The minimum degree of the graph is 1\n",
      "The maximum degree of the graph is 112\n",
      "The median degree of the graph is 5\n",
      "The mean degree of the graph is 6.02\n"
     ]
    },
    {
     "data": {
      "image/png": "[encoded data removed]",
      "text/plain": [
       "<Figure size 432x288 with 1 Axes>"
      ]
     },
     "metadata": {
      "needs_background": "light",
      "tags": []
     },
     "output_type": "display_data"
    },
    {
     "name": "stdout",
     "output_type": "stream",
     "text": [
      "The GCC contains 95373 triangles\n"
     ]
    },
    {
     "data": {
      "image/png": "[encoded data removed]",
      "text/plain": [
       "<Figure size 432x288 with 1 Axes>"
      ]
     },
     "metadata": {
      "needs_background": "light",
      "tags": []
     },
     "output_type": "display_data"
    }
   ],
   "source": [
    "print('ROMANIA GRAPH')\n",
    "general_graph_properties(g_ro)"
   ]
  },
  {
   "cell_type": "code",
   "execution_count": null,
   "metadata": {
    "id": "73oQUAYacezc"
   },
   "outputs": [],
   "source": [
    "hu = []\n",
    "for line in open('/content/HU_genres.json','r',encoding='utf-8'):\n",
    "    hu.append(json.loads(line))\n",
    "\n",
    "ro = []\n",
    "for line in open('/content/RO_genres.json','r',encoding='utf-8'):\n",
    "    ro.append(json.loads(line))\n",
    "    \n",
    "hr = []\n",
    "for line in open('/content/HR_genres.json','r',encoding='utf-8'):\n",
    "    hr.append(json.loads(line))\n",
    "\n",
    "hu_df = pd.DataFrame(hu)\n",
    "hu_df = hu_df.T\n",
    "hr_df = pd.DataFrame(hr)\n",
    "hr_df = hr_df.T\n",
    "ro_df = pd.DataFrame(ro)\n",
    "ro_df = ro_df.T\n",
    "\n",
    "def count_musics(train_data):\n",
    "    \"\"\"Counts in given df.\"\"\"\n",
    "    \n",
    "    c = Counter()\n",
    "    for recipe in train_data[:,0]:\n",
    "        for ingredient in recipe:\n",
    "            c.update([ingredient])\n",
    "    \n",
    "    return c\n",
    "\n",
    "all_count_hu = count_musics(hu_df.iloc)\n",
    "all_count_hr = count_musics(hr_df.iloc)\n",
    "all_count_ro = count_musics(ro_df.iloc)"
   ]
  },
  {
   "cell_type": "code",
   "execution_count": null,
   "metadata": {
    "colab": {
     "base_uri": "https://localhost:8080/",
     "height": 295
    },
    "id": "xnW3t4CQce0a",
    "outputId": "5e243f1b-871f-42f4-e10b-bd6047bfabc5"
   },
   "outputs": [
    {
     "data": {
      "image/png": "[encoded data removed]",
      "text/plain": [
       "<Figure size 432x288 with 1 Axes>"
      ]
     },
     "metadata": {
      "needs_background": "light",
      "tags": []
     },
     "output_type": "display_data"
    }
   ],
   "source": [
    "\n",
    "most_common = all_count_hu.most_common(10)\n",
    "\n",
    "most_common\n",
    "\n",
    "top10_all = [row[1] for row in most_common] \n",
    "\n",
    "\n",
    "plt.barh(range(10), top10_all, align = 'center', color='blue', alpha = 0.8)\n",
    "\n",
    "plt.yticks(range(10),[row[0] for row in most_common])\n",
    "\n",
    "plt.title('Top 10 musical genres - Hungary' )\n",
    "plt.xlabel('Number of listeners')\n",
    "plt.ylabel('Genre')\n",
    "\n",
    "plt.show()"
   ]
  },
  {
   "cell_type": "code",
   "execution_count": null,
   "metadata": {
    "colab": {
     "base_uri": "https://localhost:8080/",
     "height": 295
    },
    "id": "4Zc_sRQuce1V",
    "outputId": "ee4f0912-65ff-467c-da0f-793362e6c7c3"
   },
   "outputs": [
    {
     "data": {
      "image/png": "[encoded data removed]",
      "text/plain": [
       "<Figure size 432x288 with 1 Axes>"
      ]
     },
     "metadata": {
      "needs_background": "light",
      "tags": []
     },
     "output_type": "display_data"
    }
   ],
   "source": [
    "\n",
    "most_common = all_count_hr.most_common(10)\n",
    "most_common\n",
    "\n",
    "top10_all = [row[1] for row in most_common] \n",
    "\n",
    "\n",
    "plt.barh(range(10), top10_all, align = 'center', color='purple', alpha = 0.8)\n",
    "\n",
    "plt.yticks(range(10),[row[0] for row in most_common])\n",
    "\n",
    "plt.title('Top 10 musical genres - Croatia' )\n",
    "plt.xlabel('Number of listeners')\n",
    "plt.ylabel('Genre')\n",
    "plt.show()"
   ]
  },
  {
   "cell_type": "code",
   "execution_count": null,
   "metadata": {
    "colab": {
     "base_uri": "https://localhost:8080/",
     "height": 295
    },
    "id": "n72zUfz-ce2a",
    "outputId": "cfa27ebc-5888-4511-96cc-d172e838e2a0"
   },
   "outputs": [
    {
     "data": {
      "image/png": "[encoded data removed]",
      "text/plain": [
       "<Figure size 432x288 with 1 Axes>"
      ]
     },
     "metadata": {
      "needs_background": "light",
      "tags": []
     },
     "output_type": "display_data"
    }
   ],
   "source": [
    "most_common = all_count_ro.most_common(10)\n",
    "most_common\n",
    "\n",
    "top10_all = [row[1] for row in most_common] \n",
    "\n",
    "\n",
    "plt.barh(range(10), top10_all, align = 'center', color='green', alpha = 0.8)\n",
    "\n",
    "plt.yticks(range(10),[row[0] for row in most_common])\n",
    "\n",
    "plt.title('Top 10 musical genres - Romania' )\n",
    "plt.xlabel('Number of listeners')\n",
    "plt.ylabel('Genre')\n",
    "\n",
    "plt.show()"
   ]
  },
  {
   "cell_type": "code",
   "execution_count": null,
   "metadata": {
    "colab": {
     "base_uri": "https://localhost:8080/"
    },
    "id": "5YcapXQuce3c",
    "outputId": "42135bce-9b6e-469d-ceed-6d99f7e1fc9c"
   },
   "outputs": [
    {
     "name": "stdout",
     "output_type": "stream",
     "text": [
      "Number of comunities =  26\n"
     ]
    }
   ],
   "source": [
    "g = nx.read_edgelist('/content/HR_edges.csv', delimiter = ',')\n",
    "partition = community.best_partition(g, randomize = False) #k: node, v: cluster to which node belongs\n",
    "\n",
    "# best partition with key and value reversed\n",
    "inverse_partition = {} #k: cluster to which node belongs, v: list of nodes\n",
    "\n",
    "for part in list(set(partition.values())):\n",
    "    inverse_partition[part]=[]\n",
    "for node in partition.keys():\n",
    "    inverse_partition[partition[node]].append(node)\n",
    "\n",
    "num_clusters = len(set(inverse_partition.keys()))\n",
    "    \n",
    "print('Number of comunities = ',num_clusters)"
   ]
  },
  {
   "cell_type": "code",
   "execution_count": null,
   "metadata": {
    "colab": {
     "base_uri": "https://localhost:8080/",
     "height": 298
    },
    "id": "eXeLEK8Odk9b",
    "outputId": "3491fd4e-486d-42f5-cfb9-05222764083b"
   },
   "outputs": [
    {
     "name": "stdout",
     "output_type": "stream",
     "text": [
      "nodes in graph  671\n",
      "edges in graph  4112\n",
      "positioning done\n"
     ]
    },
    {
     "data": {
      "image/png": "[encoded data removed]",
      "text/plain": [
       "<Figure size 432x288 with 1 Axes>"
      ]
     },
     "metadata": {
      "tags": []
     },
     "output_type": "display_data"
    }
   ],
   "source": [
    "n_part = 3\n",
    "\n",
    "# list of nodes inside partition 'part'\n",
    "list_nodes = inverse_partition[n_part]\n",
    "\n",
    "# graph for selected cluster \n",
    "g1 = g.subgraph(list_nodes)\n",
    "print('nodes in graph ',len(g1.nodes))\n",
    "print('edges in graph ',len(g1.edges))\n",
    "\n",
    "# layout\n",
    "pos = nx.spring_layout(g1)\n",
    "print('positioning done')\n",
    "\n",
    "# plot\n",
    "nx.draw_networkx_nodes(g1, pos, list_nodes, node_size = 20) #,node_color = str(count / size))\n",
    "nx.draw_networkx_edges(g1,pos, alpha=0.5)\n",
    "plt.show()"
   ]
  },
  {
   "cell_type": "code",
   "execution_count": null,
   "metadata": {
    "id": "jpiFRAOedlZB"
   },
   "outputs": [],
   "source": [
    "def cluster_metrics(g,inverse_partition):\n",
    "\n",
    "    internal_density = []\n",
    "    edges_inside= []\n",
    "    average_degree= []\n",
    "    fomd= []\n",
    "    tpr= []\n",
    "    expansion= []\n",
    "    conductance= []\n",
    "    max_ofd= []\n",
    "\n",
    "    for n_clust in range(1,len(inverse_partition.keys())):\n",
    "        print('cluster number', n_clust)\n",
    "\n",
    "        g1 = g.subgraph(inverse_partition[n_clust])\n",
    "        m = len(g.edges)\n",
    "        n = len(g.nodes)\n",
    "\n",
    "        ms = len(g1.edges)\n",
    "        ns = len(g1.nodes)\n",
    "\n",
    "        border_edges = [e for e in g.edges if (e[0] in g1.nodes and e[1] not in g1.nodes) ]\n",
    "        cs = len(border_edges)\n",
    "\n",
    "        # Internal density\n",
    "        internal_density.append(ms/(ns*(ns-1)/2))\n",
    "        # Edges inside\n",
    "        edges_inside.append(ms)\n",
    "\n",
    "        # Average degree\n",
    "        average_degree.append(2*ms/ns)\n",
    "\n",
    "        # Fraction over median degree (FOMD) \n",
    "        dm = np.median([d[1] for d in list(g.degree)])\n",
    "        fomd.append(len([n for n in g1.nodes if g1.degree[n] > dm])/ns)\n",
    "\n",
    "        # Triangle participation ratio (TPR)\n",
    "        triangles = nx.triangles(g)\n",
    "        tpr.append(sum([1 if triangles[n]!=0 else 0 for n in g1.nodes])/ns)\n",
    "\n",
    "        # Expansion\n",
    "        expansion.append(cs/ns)\n",
    "\n",
    "        # Conductance\n",
    "        conductance.append(cs/(2*ms+cs))\n",
    "        # # Maximum out degree fraction (Max ODF)\n",
    "        out_degrees={}\n",
    "        for e in g.edges:\n",
    "            e0 = e[0] in g1.nodes\n",
    "            e1 = e[1] in g1.nodes\n",
    "            if e0 and not e1:\n",
    "                out_degrees[e[0]] = out_degrees.get(e[0],0)+1\n",
    "            if e1 and not e0:\n",
    "                out_degrees[e[1]] = out_degrees.get(e[1],0)+1\n",
    "\n",
    "        if out_degrees!={}: \n",
    "            max_ofd.append(max([out_degrees[u]/g.degree[u] for u in out_degrees.keys()]))\n",
    "        else:\n",
    "            max_ofd.append(0)\n",
    "\n",
    "    clust_metrics = pd.DataFrame()\n",
    "    clust_metrics['n_clust'] = range(1,num_clusters)\n",
    "    clust_metrics['internal_density'] = internal_density\n",
    "    clust_metrics['edges_inside'] =edges_inside\n",
    "    clust_metrics['average_degree'] =average_degree\n",
    "    clust_metrics['fomd'] =fomd\n",
    "    clust_metrics['tpr'] =tpr\n",
    "    clust_metrics['expansion'] =expansion\n",
    "    clust_metrics['conductance'] =conductance\n",
    "    clust_metrics['max_ofd'] =max_ofd\n",
    "    return clust_metrics"
   ]
  },
  {
   "cell_type": "code",
   "execution_count": null,
   "metadata": {
    "colab": {
     "base_uri": "https://localhost:8080/",
     "height": 704
    },
    "id": "kDLqptx-dlZ2",
    "outputId": "c486ddd7-96f3-4c83-fd03-a70d541b392f"
   },
   "outputs": [
    {
     "name": "stdout",
     "output_type": "stream",
     "text": [
      "cluster number 1\n",
      "cluster number 2\n",
      "cluster number 3\n",
      "cluster number 4\n",
      "cluster number 5\n",
      "cluster number 6\n",
      "cluster number 7\n",
      "cluster number 8\n",
      "cluster number 9\n",
      "cluster number 10\n",
      "cluster number 11\n",
      "cluster number 12\n",
      "cluster number 13\n",
      "cluster number 14\n",
      "cluster number 15\n",
      "cluster number 16\n",
      "cluster number 17\n",
      "cluster number 18\n",
      "cluster number 19\n",
      "cluster number 20\n",
      "cluster number 21\n",
      "cluster number 22\n",
      "cluster number 23\n",
      "cluster number 24\n",
      "cluster number 25\n"
     ]
    },
    {
     "data": {
      "text/html": [
       "<div>\n",
       "<style scoped>\n",
       "    .dataframe tbody tr th:only-of-type {\n",
       "        vertical-align: middle;\n",
       "    }\n",
       "\n",
       "    .dataframe tbody tr th {\n",
       "        vertical-align: top;\n",
       "    }\n",
       "\n",
       "    .dataframe thead th {\n",
       "        text-align: right;\n",
       "    }\n",
       "</style>\n",
       "<table border=\"1\" class=\"dataframe\">\n",
       "  <thead>\n",
       "    <tr style=\"text-align: right;\">\n",
       "      <th></th>\n",
       "      <th>n_clust</th>\n",
       "      <th>internal_density</th>\n",
       "      <th>edges_inside</th>\n",
       "      <th>average_degree</th>\n",
       "      <th>fomd</th>\n",
       "      <th>tpr</th>\n",
       "      <th>expansion</th>\n",
       "      <th>conductance</th>\n",
       "      <th>max_ofd</th>\n",
       "    </tr>\n",
       "  </thead>\n",
       "  <tbody>\n",
       "    <tr>\n",
       "      <th>count</th>\n",
       "      <td>25.000000</td>\n",
       "      <td>25.000000</td>\n",
       "      <td>25.00000</td>\n",
       "      <td>25.000000</td>\n",
       "      <td>25.000000</td>\n",
       "      <td>25.000000</td>\n",
       "      <td>25.000000</td>\n",
       "      <td>25.000000</td>\n",
       "      <td>25.000000</td>\n",
       "    </tr>\n",
       "    <tr>\n",
       "      <th>mean</th>\n",
       "      <td>13.000000</td>\n",
       "      <td>0.058733</td>\n",
       "      <td>16052.88000</td>\n",
       "      <td>14.096843</td>\n",
       "      <td>0.382994</td>\n",
       "      <td>0.813722</td>\n",
       "      <td>1.742808</td>\n",
       "      <td>0.103377</td>\n",
       "      <td>0.821201</td>\n",
       "    </tr>\n",
       "    <tr>\n",
       "      <th>std</th>\n",
       "      <td>7.359801</td>\n",
       "      <td>0.200747</td>\n",
       "      <td>13293.56528</td>\n",
       "      <td>4.273694</td>\n",
       "      <td>0.135989</td>\n",
       "      <td>0.119827</td>\n",
       "      <td>0.798155</td>\n",
       "      <td>0.044512</td>\n",
       "      <td>0.131535</td>\n",
       "    </tr>\n",
       "    <tr>\n",
       "      <th>min</th>\n",
       "      <td>1.000000</td>\n",
       "      <td>0.000954</td>\n",
       "      <td>6.00000</td>\n",
       "      <td>2.000000</td>\n",
       "      <td>0.000000</td>\n",
       "      <td>0.300000</td>\n",
       "      <td>0.000000</td>\n",
       "      <td>0.000000</td>\n",
       "      <td>0.250000</td>\n",
       "    </tr>\n",
       "    <tr>\n",
       "      <th>25%</th>\n",
       "      <td>7.000000</td>\n",
       "      <td>0.006002</td>\n",
       "      <td>5916.00000</td>\n",
       "      <td>12.763754</td>\n",
       "      <td>0.366775</td>\n",
       "      <td>0.818770</td>\n",
       "      <td>1.419633</td>\n",
       "      <td>0.086383</td>\n",
       "      <td>0.800000</td>\n",
       "    </tr>\n",
       "    <tr>\n",
       "      <th>50%</th>\n",
       "      <td>13.000000</td>\n",
       "      <td>0.008628</td>\n",
       "      <td>13633.00000</td>\n",
       "      <td>15.520157</td>\n",
       "      <td>0.418719</td>\n",
       "      <td>0.832376</td>\n",
       "      <td>1.657215</td>\n",
       "      <td>0.097462</td>\n",
       "      <td>0.857143</td>\n",
       "    </tr>\n",
       "    <tr>\n",
       "      <th>75%</th>\n",
       "      <td>19.000000</td>\n",
       "      <td>0.013784</td>\n",
       "      <td>18932.00000</td>\n",
       "      <td>16.895318</td>\n",
       "      <td>0.463560</td>\n",
       "      <td>0.850234</td>\n",
       "      <td>1.926841</td>\n",
       "      <td>0.130183</td>\n",
       "      <td>0.888889</td>\n",
       "    </tr>\n",
       "    <tr>\n",
       "      <th>max</th>\n",
       "      <td>25.000000</td>\n",
       "      <td>1.000000</td>\n",
       "      <td>56820.00000</td>\n",
       "      <td>18.373484</td>\n",
       "      <td>0.545998</td>\n",
       "      <td>1.000000</td>\n",
       "      <td>3.443058</td>\n",
       "      <td>0.181967</td>\n",
       "      <td>0.930000</td>\n",
       "    </tr>\n",
       "  </tbody>\n",
       "</table>\n",
       "</div>"
      ],
      "text/plain": [
       "         n_clust  internal_density  ...  conductance    max_ofd\n",
       "count  25.000000         25.000000  ...    25.000000  25.000000\n",
       "mean   13.000000          0.058733  ...     0.103377   0.821201\n",
       "std     7.359801          0.200747  ...     0.044512   0.131535\n",
       "min     1.000000          0.000954  ...     0.000000   0.250000\n",
       "25%     7.000000          0.006002  ...     0.086383   0.800000\n",
       "50%    13.000000          0.008628  ...     0.097462   0.857143\n",
       "75%    19.000000          0.013784  ...     0.130183   0.888889\n",
       "max    25.000000          1.000000  ...     0.181967   0.930000\n",
       "\n",
       "[8 rows x 9 columns]"
      ]
     },
     "execution_count": 24,
     "metadata": {
      "tags": []
     },
     "output_type": "execute_result"
    }
   ],
   "source": [
    "\n",
    "metrics = cluster_metrics(g,inverse_partition)\n",
    "metrics.describe()"
   ]
  },
  {
   "cell_type": "code",
   "execution_count": null,
   "metadata": {
    "colab": {
     "base_uri": "https://localhost:8080/",
     "height": 284
    },
    "id": "sVWlZqxOdlgX",
    "outputId": "aa8a62d1-2a29-4386-b020-743588e46ca3"
   },
   "outputs": [
    {
     "data": {
      "text/html": [
       "<div>\n",
       "<style scoped>\n",
       "    .dataframe tbody tr th:only-of-type {\n",
       "        vertical-align: middle;\n",
       "    }\n",
       "\n",
       "    .dataframe tbody tr th {\n",
       "        vertical-align: top;\n",
       "    }\n",
       "\n",
       "    .dataframe thead th {\n",
       "        text-align: right;\n",
       "    }\n",
       "</style>\n",
       "<table border=\"1\" class=\"dataframe\">\n",
       "  <thead>\n",
       "    <tr style=\"text-align: right;\">\n",
       "      <th></th>\n",
       "      <th>internal density</th>\n",
       "      <th>number of edges</th>\n",
       "      <th>average degree</th>\n",
       "      <th>fraction of maximum degree</th>\n",
       "    </tr>\n",
       "  </thead>\n",
       "  <tbody>\n",
       "    <tr>\n",
       "      <th>count</th>\n",
       "      <td>25.000000</td>\n",
       "      <td>25.00000</td>\n",
       "      <td>25.000000</td>\n",
       "      <td>25.000000</td>\n",
       "    </tr>\n",
       "    <tr>\n",
       "      <th>mean</th>\n",
       "      <td>0.058733</td>\n",
       "      <td>16052.88000</td>\n",
       "      <td>14.096843</td>\n",
       "      <td>0.382994</td>\n",
       "    </tr>\n",
       "    <tr>\n",
       "      <th>std</th>\n",
       "      <td>0.200747</td>\n",
       "      <td>13293.56528</td>\n",
       "      <td>4.273694</td>\n",
       "      <td>0.135989</td>\n",
       "    </tr>\n",
       "    <tr>\n",
       "      <th>min</th>\n",
       "      <td>0.000954</td>\n",
       "      <td>6.00000</td>\n",
       "      <td>2.000000</td>\n",
       "      <td>0.000000</td>\n",
       "    </tr>\n",
       "    <tr>\n",
       "      <th>25%</th>\n",
       "      <td>0.006002</td>\n",
       "      <td>5916.00000</td>\n",
       "      <td>12.763754</td>\n",
       "      <td>0.366775</td>\n",
       "    </tr>\n",
       "    <tr>\n",
       "      <th>50%</th>\n",
       "      <td>0.008628</td>\n",
       "      <td>13633.00000</td>\n",
       "      <td>15.520157</td>\n",
       "      <td>0.418719</td>\n",
       "    </tr>\n",
       "    <tr>\n",
       "      <th>75%</th>\n",
       "      <td>0.013784</td>\n",
       "      <td>18932.00000</td>\n",
       "      <td>16.895318</td>\n",
       "      <td>0.463560</td>\n",
       "    </tr>\n",
       "    <tr>\n",
       "      <th>max</th>\n",
       "      <td>1.000000</td>\n",
       "      <td>56820.00000</td>\n",
       "      <td>18.373484</td>\n",
       "      <td>0.545998</td>\n",
       "    </tr>\n",
       "  </tbody>\n",
       "</table>\n",
       "</div>"
      ],
      "text/plain": [
       "       internal density  ...  fraction of maximum degree\n",
       "count         25.000000  ...                   25.000000\n",
       "mean           0.058733  ...                    0.382994\n",
       "std            0.200747  ...                    0.135989\n",
       "min            0.000954  ...                    0.000000\n",
       "25%            0.006002  ...                    0.366775\n",
       "50%            0.008628  ...                    0.418719\n",
       "75%            0.013784  ...                    0.463560\n",
       "max            1.000000  ...                    0.545998\n",
       "\n",
       "[8 rows x 4 columns]"
      ]
     },
     "execution_count": 25,
     "metadata": {
      "tags": []
     },
     "output_type": "execute_result"
    }
   ],
   "source": [
    "metrics.columns=['n_clust','internal density','number of edges','average degree','fraction of maximum degree','trangle participation ratio','expansion','conductance','maximum out-degree fraction']\n",
    "metrics[['internal density','number of edges','average degree','fraction of maximum degree']].describe()"
   ]
  },
  {
   "cell_type": "code",
   "execution_count": null,
   "metadata": {
    "colab": {
     "base_uri": "https://localhost:8080/",
     "height": 284
    },
    "id": "KjO43hqSdlhR",
    "outputId": "475921da-4a8b-4e2c-c442-7edc9cd1e584"
   },
   "outputs": [
    {
     "data": {
      "text/html": [
       "<div>\n",
       "<style scoped>\n",
       "    .dataframe tbody tr th:only-of-type {\n",
       "        vertical-align: middle;\n",
       "    }\n",
       "\n",
       "    .dataframe tbody tr th {\n",
       "        vertical-align: top;\n",
       "    }\n",
       "\n",
       "    .dataframe thead th {\n",
       "        text-align: right;\n",
       "    }\n",
       "</style>\n",
       "<table border=\"1\" class=\"dataframe\">\n",
       "  <thead>\n",
       "    <tr style=\"text-align: right;\">\n",
       "      <th></th>\n",
       "      <th>trangle participation ratio</th>\n",
       "      <th>expansion</th>\n",
       "      <th>conductance</th>\n",
       "      <th>maximum out-degree fraction</th>\n",
       "    </tr>\n",
       "  </thead>\n",
       "  <tbody>\n",
       "    <tr>\n",
       "      <th>count</th>\n",
       "      <td>25.000000</td>\n",
       "      <td>25.000000</td>\n",
       "      <td>25.000000</td>\n",
       "      <td>25.000000</td>\n",
       "    </tr>\n",
       "    <tr>\n",
       "      <th>mean</th>\n",
       "      <td>0.813722</td>\n",
       "      <td>1.742808</td>\n",
       "      <td>0.103377</td>\n",
       "      <td>0.821201</td>\n",
       "    </tr>\n",
       "    <tr>\n",
       "      <th>std</th>\n",
       "      <td>0.119827</td>\n",
       "      <td>0.798155</td>\n",
       "      <td>0.044512</td>\n",
       "      <td>0.131535</td>\n",
       "    </tr>\n",
       "    <tr>\n",
       "      <th>min</th>\n",
       "      <td>0.300000</td>\n",
       "      <td>0.000000</td>\n",
       "      <td>0.000000</td>\n",
       "      <td>0.250000</td>\n",
       "    </tr>\n",
       "    <tr>\n",
       "      <th>25%</th>\n",
       "      <td>0.818770</td>\n",
       "      <td>1.419633</td>\n",
       "      <td>0.086383</td>\n",
       "      <td>0.800000</td>\n",
       "    </tr>\n",
       "    <tr>\n",
       "      <th>50%</th>\n",
       "      <td>0.832376</td>\n",
       "      <td>1.657215</td>\n",
       "      <td>0.097462</td>\n",
       "      <td>0.857143</td>\n",
       "    </tr>\n",
       "    <tr>\n",
       "      <th>75%</th>\n",
       "      <td>0.850234</td>\n",
       "      <td>1.926841</td>\n",
       "      <td>0.130183</td>\n",
       "      <td>0.888889</td>\n",
       "    </tr>\n",
       "    <tr>\n",
       "      <th>max</th>\n",
       "      <td>1.000000</td>\n",
       "      <td>3.443058</td>\n",
       "      <td>0.181967</td>\n",
       "      <td>0.930000</td>\n",
       "    </tr>\n",
       "  </tbody>\n",
       "</table>\n",
       "</div>"
      ],
      "text/plain": [
       "       trangle participation ratio  ...  maximum out-degree fraction\n",
       "count                    25.000000  ...                    25.000000\n",
       "mean                      0.813722  ...                     0.821201\n",
       "std                       0.119827  ...                     0.131535\n",
       "min                       0.300000  ...                     0.250000\n",
       "25%                       0.818770  ...                     0.800000\n",
       "50%                       0.832376  ...                     0.857143\n",
       "75%                       0.850234  ...                     0.888889\n",
       "max                       1.000000  ...                     0.930000\n",
       "\n",
       "[8 rows x 4 columns]"
      ]
     },
     "execution_count": 26,
     "metadata": {
      "tags": []
     },
     "output_type": "execute_result"
    }
   ],
   "source": [
    "metrics[['trangle participation ratio','expansion','conductance','maximum out-degree fraction']].describe()\n"
   ]
  },
  {
   "cell_type": "code",
   "execution_count": null,
   "metadata": {
    "colab": {
     "base_uri": "https://localhost:8080/"
    },
    "id": "15bRj91Ffm3C",
    "outputId": "f4ef101f-8769-4d9d-b64d-b24fc3c32f53"
   },
   "outputs": [
    {
     "name": "stdout",
     "output_type": "stream",
     "text": [
      "Community  0 expert node  17665 degree of node  116\n",
      "Community  1 expert node  52793 degree of node  305\n",
      "Community  2 expert node  40923 degree of node  105\n",
      "Community  3 expert node  25352 degree of node  326\n",
      "Community  4 expert node  1199 degree of node  45\n",
      "Community  5 expert node  26835 degree of node  96\n",
      "Community  6 expert node  568 degree of node  202\n",
      "Community  7 expert node  49885 degree of node  79\n",
      "Community  8 expert node  31632 degree of node  173\n",
      "Community  9 expert node  20315 degree of node  236\n",
      "Community  10 expert node  52292 degree of node  138\n",
      "Community  11 expert node  43326 degree of node  205\n",
      "Community  12 expert node  4985 degree of node  158\n",
      "Community  13 expert node  40193 degree of node  5\n",
      "Community  14 expert node  42675 degree of node  173\n",
      "Community  15 expert node  9260 degree of node  118\n",
      "Community  16 expert node  42956 degree of node  194\n",
      "Community  17 expert node  5102 degree of node  4\n",
      "Community  18 expert node  30030 degree of node  92\n",
      "Community  19 expert node  24365 degree of node  114\n",
      "Community  20 expert node  29906 degree of node  144\n",
      "Community  21 expert node  13289 degree of node  99\n",
      "Community  22 expert node  26255 degree of node  153\n",
      "Community  23 expert node  9788 degree of node  122\n",
      "Community  24 expert node  43774 degree of node  204\n"
     ]
    }
   ],
   "source": [
    "experts = []\n",
    "for n_clust in range(1,num_clusters):\n",
    "    g1 = g.subgraph(inverse_partition[n_clust])\n",
    "    dg_centrl = nx.degree_centrality(g1)\n",
    "    i = np.argmax(list(dg_centrl.values()))\n",
    "    exp = list(dg_centrl.keys())[i]\n",
    "    experts.append(exp)\n",
    "\n",
    "for i,exp in enumerate(experts):\n",
    "    print('Community ',i, 'expert node ',exp, 'degree of node ',g.degree(exp))"
   ]
  },
  {
   "cell_type": "code",
   "execution_count": null,
   "metadata": {
    "colab": {
     "base_uri": "https://localhost:8080/"
    },
    "id": "h_zMab1-fm4v",
    "outputId": "45a92cc1-a6c0-4bea-b842-f67e297c70cd"
   },
   "outputs": [
    {
     "name": "stdout",
     "output_type": "stream",
     "text": [
      "The original graph had  54575  nodes and  498203  edges\n",
      "The sparsified graph has  54575  nodes and  322034  edges\n"
     ]
    }
   ],
   "source": [
    "new_g = nx.Graph() #the new graph\n",
    "e=0.8  \n",
    "# the sparsification exponent\n",
    "\n",
    "for node in g.nodes:\n",
    "    ki = g.degree[node] # the degree of the current node\n",
    "    ei = list(g.edges(node)) # the set if edges incident to the node\n",
    "    sims = [s[2] for s in nx.jaccard_coefficient(g,ei)] # jacard similarities for the incident edges\n",
    "    n = int(pow(ki,e)) # the number of edges to keep    \n",
    "    args = list(np.argsort(sims)) # argsorting to get n edges with top similarity\n",
    "    args.reverse()\n",
    "    top_n = [ei[i] for i in args[:n]]\n",
    "    new_g.add_edges_from(top_n) # adding the selected edges to the new graph\n",
    "\n",
    "print('The original graph had ',len(g.nodes),' nodes and ',len(g.edges),' edges')\n",
    "print('The sparsified graph has ',len(new_g.nodes),' nodes and ',len(new_g.edges),' edges')"
   ]
  },
  {
   "cell_type": "code",
   "execution_count": null,
   "metadata": {
    "colab": {
     "base_uri": "https://localhost:8080/"
    },
    "id": "S8tL5KrIfnAn",
    "outputId": "25b74f95-110a-49c5-c956-64ee1418ceff"
   },
   "outputs": [
    {
     "name": "stdout",
     "output_type": "stream",
     "text": [
      "Number of comunities =  98\n"
     ]
    }
   ],
   "source": [
    "partition = community.best_partition(new_g, randomize = False, random_state = 25) #k: node, v: cluster to which node belongs\n",
    "\n",
    "# best partition with key and value reversed\n",
    "inverse_partition = {} #k: cluster to which node belongs, v: list of nodes\n",
    "\n",
    "for part in list(set(partition.values())):\n",
    "    inverse_partition[part]=[]\n",
    "for node in partition.keys():\n",
    "    inverse_partition[partition[node]].append(node)\n",
    "\n",
    "num_clusters = len(set(inverse_partition.keys()))\n",
    "    \n",
    "print('Number of comunities = ',num_clusters)"
   ]
  },
  {
   "cell_type": "code",
   "execution_count": null,
   "metadata": {
    "colab": {
     "base_uri": "https://localhost:8080/",
     "height": 1000
    },
    "id": "rL9vttoIfnBl",
    "outputId": "2aca40ea-a873-4ba3-f04a-45b9f0c49d3d"
   },
   "outputs": [
    {
     "name": "stdout",
     "output_type": "stream",
     "text": [
      "cluster number 1\n",
      "cluster number 2\n",
      "cluster number 3\n",
      "cluster number 4\n",
      "cluster number 5\n",
      "cluster number 6\n",
      "cluster number 7\n",
      "cluster number 8\n",
      "cluster number 9\n",
      "cluster number 10\n",
      "cluster number 11\n",
      "cluster number 12\n",
      "cluster number 13\n",
      "cluster number 14\n",
      "cluster number 15\n",
      "cluster number 16\n",
      "cluster number 17\n",
      "cluster number 18\n",
      "cluster number 19\n",
      "cluster number 20\n",
      "cluster number 21\n",
      "cluster number 22\n",
      "cluster number 23\n",
      "cluster number 24\n",
      "cluster number 25\n",
      "cluster number 26\n",
      "cluster number 27\n",
      "cluster number 28\n",
      "cluster number 29\n",
      "cluster number 30\n",
      "cluster number 31\n",
      "cluster number 32\n",
      "cluster number 33\n",
      "cluster number 34\n",
      "cluster number 35\n",
      "cluster number 36\n",
      "cluster number 37\n",
      "cluster number 38\n",
      "cluster number 39\n",
      "cluster number 40\n",
      "cluster number 41\n",
      "cluster number 42\n",
      "cluster number 43\n",
      "cluster number 44\n",
      "cluster number 45\n",
      "cluster number 46\n",
      "cluster number 47\n",
      "cluster number 48\n",
      "cluster number 49\n",
      "cluster number 50\n",
      "cluster number 51\n",
      "cluster number 52\n",
      "cluster number 53\n",
      "cluster number 54\n",
      "cluster number 55\n",
      "cluster number 56\n",
      "cluster number 57\n",
      "cluster number 58\n",
      "cluster number 59\n",
      "cluster number 60\n",
      "cluster number 61\n",
      "cluster number 62\n",
      "cluster number 63\n",
      "cluster number 64\n",
      "cluster number 65\n",
      "cluster number 66\n",
      "cluster number 67\n",
      "cluster number 68\n",
      "cluster number 69\n",
      "cluster number 70\n",
      "cluster number 71\n",
      "cluster number 72\n",
      "cluster number 73\n",
      "cluster number 74\n",
      "cluster number 75\n",
      "cluster number 76\n",
      "cluster number 77\n",
      "cluster number 78\n",
      "cluster number 79\n",
      "cluster number 80\n",
      "cluster number 81\n",
      "cluster number 82\n",
      "cluster number 83\n",
      "cluster number 84\n",
      "cluster number 85\n",
      "cluster number 86\n",
      "cluster number 87\n",
      "cluster number 88\n",
      "cluster number 89\n",
      "cluster number 90\n",
      "cluster number 91\n",
      "cluster number 92\n",
      "cluster number 93\n",
      "cluster number 94\n",
      "cluster number 95\n",
      "cluster number 96\n",
      "cluster number 97\n"
     ]
    },
    {
     "data": {
      "text/html": [
       "<div>\n",
       "<style scoped>\n",
       "    .dataframe tbody tr th:only-of-type {\n",
       "        vertical-align: middle;\n",
       "    }\n",
       "\n",
       "    .dataframe tbody tr th {\n",
       "        vertical-align: top;\n",
       "    }\n",
       "\n",
       "    .dataframe thead th {\n",
       "        text-align: right;\n",
       "    }\n",
       "</style>\n",
       "<table border=\"1\" class=\"dataframe\">\n",
       "  <thead>\n",
       "    <tr style=\"text-align: right;\">\n",
       "      <th></th>\n",
       "      <th>n_clust</th>\n",
       "      <th>internal_density</th>\n",
       "      <th>edges_inside</th>\n",
       "      <th>average_degree</th>\n",
       "      <th>fomd</th>\n",
       "      <th>tpr</th>\n",
       "      <th>expansion</th>\n",
       "      <th>conductance</th>\n",
       "      <th>max_ofd</th>\n",
       "    </tr>\n",
       "  </thead>\n",
       "  <tbody>\n",
       "    <tr>\n",
       "      <th>count</th>\n",
       "      <td>97.000000</td>\n",
       "      <td>97.000000</td>\n",
       "      <td>97.000000</td>\n",
       "      <td>97.000000</td>\n",
       "      <td>97.000000</td>\n",
       "      <td>97.000000</td>\n",
       "      <td>97.000000</td>\n",
       "      <td>97.000000</td>\n",
       "      <td>97.000000</td>\n",
       "    </tr>\n",
       "    <tr>\n",
       "      <th>mean</th>\n",
       "      <td>49.000000</td>\n",
       "      <td>0.620964</td>\n",
       "      <td>2911.546392</td>\n",
       "      <td>4.548535</td>\n",
       "      <td>0.150834</td>\n",
       "      <td>0.323503</td>\n",
       "      <td>0.258208</td>\n",
       "      <td>0.023028</td>\n",
       "      <td>0.313562</td>\n",
       "    </tr>\n",
       "    <tr>\n",
       "      <th>std</th>\n",
       "      <td>28.145456</td>\n",
       "      <td>0.470332</td>\n",
       "      <td>5791.757647</td>\n",
       "      <td>4.708997</td>\n",
       "      <td>0.205310</td>\n",
       "      <td>0.407412</td>\n",
       "      <td>0.367502</td>\n",
       "      <td>0.033026</td>\n",
       "      <td>0.408037</td>\n",
       "    </tr>\n",
       "    <tr>\n",
       "      <th>min</th>\n",
       "      <td>1.000000</td>\n",
       "      <td>0.000701</td>\n",
       "      <td>1.000000</td>\n",
       "      <td>1.000000</td>\n",
       "      <td>0.000000</td>\n",
       "      <td>0.000000</td>\n",
       "      <td>0.000000</td>\n",
       "      <td>0.000000</td>\n",
       "      <td>0.000000</td>\n",
       "    </tr>\n",
       "    <tr>\n",
       "      <th>25%</th>\n",
       "      <td>25.000000</td>\n",
       "      <td>0.014912</td>\n",
       "      <td>1.000000</td>\n",
       "      <td>1.000000</td>\n",
       "      <td>0.000000</td>\n",
       "      <td>0.000000</td>\n",
       "      <td>0.000000</td>\n",
       "      <td>0.000000</td>\n",
       "      <td>0.000000</td>\n",
       "    </tr>\n",
       "    <tr>\n",
       "      <th>50%</th>\n",
       "      <td>49.000000</td>\n",
       "      <td>1.000000</td>\n",
       "      <td>1.000000</td>\n",
       "      <td>1.000000</td>\n",
       "      <td>0.000000</td>\n",
       "      <td>0.000000</td>\n",
       "      <td>0.000000</td>\n",
       "      <td>0.000000</td>\n",
       "      <td>0.000000</td>\n",
       "    </tr>\n",
       "    <tr>\n",
       "      <th>75%</th>\n",
       "      <td>73.000000</td>\n",
       "      <td>1.000000</td>\n",
       "      <td>3386.000000</td>\n",
       "      <td>9.743885</td>\n",
       "      <td>0.385233</td>\n",
       "      <td>0.814748</td>\n",
       "      <td>0.582832</td>\n",
       "      <td>0.051988</td>\n",
       "      <td>0.833333</td>\n",
       "    </tr>\n",
       "    <tr>\n",
       "      <th>max</th>\n",
       "      <td>97.000000</td>\n",
       "      <td>1.000000</td>\n",
       "      <td>31829.000000</td>\n",
       "      <td>13.854063</td>\n",
       "      <td>0.540630</td>\n",
       "      <td>1.000000</td>\n",
       "      <td>1.206897</td>\n",
       "      <td>0.117808</td>\n",
       "      <td>0.939394</td>\n",
       "    </tr>\n",
       "  </tbody>\n",
       "</table>\n",
       "</div>"
      ],
      "text/plain": [
       "         n_clust  internal_density  ...  conductance    max_ofd\n",
       "count  97.000000         97.000000  ...    97.000000  97.000000\n",
       "mean   49.000000          0.620964  ...     0.023028   0.313562\n",
       "std    28.145456          0.470332  ...     0.033026   0.408037\n",
       "min     1.000000          0.000701  ...     0.000000   0.000000\n",
       "25%    25.000000          0.014912  ...     0.000000   0.000000\n",
       "50%    49.000000          1.000000  ...     0.000000   0.000000\n",
       "75%    73.000000          1.000000  ...     0.051988   0.833333\n",
       "max    97.000000          1.000000  ...     0.117808   0.939394\n",
       "\n",
       "[8 rows x 9 columns]"
      ]
     },
     "execution_count": 30,
     "metadata": {
      "tags": []
     },
     "output_type": "execute_result"
    }
   ],
   "source": [
    "\n",
    "metrics = cluster_metrics(new_g,inverse_partition)\n",
    "metrics.describe()"
   ]
  },
  {
   "cell_type": "code",
   "execution_count": null,
   "metadata": {
    "id": "t98YIq8QfnG8"
   },
   "outputs": [],
   "source": [
    "hr = []\n",
    "for line in open('/content/HR_genres.json','r',encoding='utf-8'):\n",
    "    hr.append(json.loads(line))\n",
    "geners_dict = hr[0]\n"
   ]
  },
  {
   "cell_type": "code",
   "execution_count": null,
   "metadata": {
    "id": "-kwkoqMLfnIF"
   },
   "outputs": [],
   "source": [
    "from collections import Counter\n",
    "comunity_geners={}\n",
    "for n_part in range(1,num_clusters):\n",
    "    \n",
    "    geners = [geners_dict[node] for node in inverse_partition[n_part]]\n",
    "    geners = [g for geners_list in geners for g in geners_list]\n",
    "    comunity_geners[n_part]= Counter(geners)"
   ]
  },
  {
   "cell_type": "code",
   "execution_count": null,
   "metadata": {
    "colab": {
     "base_uri": "https://localhost:8080/"
    },
    "id": "bRuIxHzdfnNR",
    "outputId": "59c03903-4350-4175-fcaa-03caa3c745c2"
   },
   "outputs": [
    {
     "data": {
      "text/plain": [
       "[('Pop', 2826),\n",
       " ('Dance', 1657),\n",
       " ('Rock', 1436),\n",
       " ('Rap/Hip Hop', 1309),\n",
       " ('Electro', 1138),\n",
       " ('Alternative', 1124),\n",
       " ('R&B', 886),\n",
       " ('International Pop', 852),\n",
       " ('Techno/House', 646),\n",
       " ('Indie Pop/Folk', 584),\n",
       " ('Indie Rock', 576),\n",
       " ('Folk', 564),\n",
       " ('Films/Games', 518),\n",
       " ('Singer & Songwriter', 509),\n",
       " ('Film Scores', 490),\n",
       " ('Contemporary R&B', 422),\n",
       " ('Indie Pop', 407),\n",
       " ('Latin Music', 379),\n",
       " ('Dancefloor', 349),\n",
       " ('Metal', 284),\n",
       " ('Hard Rock', 251),\n",
       " ('Reggae', 199),\n",
       " ('Disco', 166),\n",
       " ('Country', 133),\n",
       " ('Indie Rock/Rock pop', 126),\n",
       " ('Kids', 118),\n",
       " ('Rock & Roll/Rockabilly', 108),\n",
       " ('Blues', 106),\n",
       " ('Dubstep', 104),\n",
       " ('East Coast', 101),\n",
       " ('Jazz', 77),\n",
       " ('Soul & Funk', 76),\n",
       " ('Comedy', 70),\n",
       " ('Classical', 60),\n",
       " ('Contemporary Soul', 44),\n",
       " ('Chill Out/Trip-Hop/Lounge', 38),\n",
       " ('Soundtracks', 34),\n",
       " ('Trance', 33),\n",
       " ('Dancehall/Ragga', 30),\n",
       " ('Dirty South', 26),\n",
       " ('Spirituality & Religion', 23),\n",
       " ('Electro Pop/Electro Rock', 22),\n",
       " ('Asian Music', 22),\n",
       " ('Brazilian Music', 14),\n",
       " ('Musicals', 13),\n",
       " ('Old school soul', 13),\n",
       " ('TV Soundtracks', 12),\n",
       " ('Sports', 8),\n",
       " ('Dub', 8),\n",
       " ('Alternative Country', 7),\n",
       " ('Vocal jazz', 6),\n",
       " ('Urban Cowboy', 6),\n",
       " ('Ska', 5),\n",
       " ('Instrumental jazz', 5),\n",
       " ('West Coast', 4),\n",
       " ('Electro Hip Hop', 4),\n",
       " ('Game Scores', 4),\n",
       " ('Bolero', 4),\n",
       " ('African Music', 3),\n",
       " ('Tropical', 3),\n",
       " ('Electric Blues', 3),\n",
       " ('Jazz Hip Hop', 3),\n",
       " ('Opera', 3),\n",
       " ('Oldschool R&B', 3),\n",
       " ('Chicago Blues', 2),\n",
       " ('Baroque', 1),\n",
       " ('Acoustic Blues', 1),\n",
       " ('Country Blues', 1),\n",
       " ('Grime', 1)]"
      ]
     },
     "execution_count": 37,
     "metadata": {
      "tags": []
     },
     "output_type": "execute_result"
    }
   ],
   "source": [
    "comunity_geners[18].most_common()\n"
   ]
  },
  {
   "cell_type": "code",
   "execution_count": null,
   "metadata": {
    "colab": {
     "base_uri": "https://localhost:8080/"
    },
    "id": "1MYPWWd_fnOk",
    "outputId": "8f6ff886-7cbd-4592-cc15-88c564b9528a"
   },
   "outputs": [
    {
     "name": "stdout",
     "output_type": "stream",
     "text": [
      "Community  0 \n",
      " experts music taste:  ['Folk'] \n",
      " most popular tastes in community and their counts:  [('Pop', 1367), ('Dance', 766), ('Rock', 707), ('Alternative', 572), ('Rap/Hip Hop', 564), ('Electro', 543), ('International Pop', 393), ('R&B', 381), ('Indie Pop/Folk', 357), ('Techno/House', 307), ('Indie Rock', 307), ('Folk', 303), ('Singer & Songwriter', 287), ('Films/Games', 252), ('Film Scores', 243)] \n",
      "\n",
      "Community  1 \n",
      " experts music taste:  ['Indie Pop/Folk', 'International Pop', 'Rap/Hip Hop', 'Chill Out/Trip-Hop/Lounge', 'Instrumental jazz', 'Electro Pop/Electro Rock', 'Latin Music', 'Electro', 'Indie Rock', 'Jazz', 'Vocal jazz', 'Techno/House', 'R&B', 'Country', 'Brazilian Music', 'Contemporary Soul', 'Alternative Country', 'Metal', 'Disco', 'Indie Rock/Rock pop', 'Rock', 'Blues', 'Singer & Songwriter', 'Dance', 'Pop', 'Indie Pop', 'Alternative', 'Folk'] \n",
      " most popular tastes in community and their counts:  [('Pop', 720), ('Dance', 401), ('Rock', 357), ('Rap/Hip Hop', 347), ('Alternative', 287), ('Electro', 261), ('R&B', 224), ('International Pop', 199), ('Indie Pop/Folk', 190), ('Folk', 176), ('Singer & Songwriter', 154), ('Films/Games', 153), ('Film Scores', 150), ('Techno/House', 148), ('Indie Rock', 146)] \n",
      "\n",
      "Community  2 \n",
      " experts music taste:  ['Dance', 'Rap/Hip Hop', 'Pop', 'Techno/House', 'R&B', 'Alternative', 'Electro'] \n",
      " most popular tastes in community and their counts:  [('Pop', 530), ('Dance', 311), ('Rock', 277), ('Rap/Hip Hop', 247), ('Electro', 232), ('Alternative', 215), ('International Pop', 159), ('R&B', 153), ('Folk', 141), ('Indie Pop/Folk', 123), ('Indie Rock', 120), ('Techno/House', 119), ('Films/Games', 106), ('Singer & Songwriter', 104), ('Film Scores', 102)] \n",
      "\n",
      "Community  3 \n",
      " experts music taste:  ['Rock'] \n",
      " most popular tastes in community and their counts:  [('Pop', 1341), ('Dance', 763), ('Rock', 701), ('Rap/Hip Hop', 569), ('Alternative', 564), ('Electro', 523), ('R&B', 359), ('International Pop', 355), ('Indie Rock', 314), ('Indie Pop/Folk', 304), ('Folk', 298), ('Techno/House', 262), ('Singer & Songwriter', 252), ('Films/Games', 248), ('Film Scores', 231)] \n",
      "\n",
      "Community  4 \n",
      " experts music taste:  ['Pop'] \n",
      " most popular tastes in community and their counts:  [('Pop', 7791), ('Rock', 5196), ('Dance', 4134), ('Alternative', 3989), ('Electro', 3338), ('Rap/Hip Hop', 3007), ('R&B', 2831), ('Indie Rock', 2706), ('Indie Pop/Folk', 2495), ('International Pop', 2136), ('Indie Pop', 1984), ('Singer & Songwriter', 1888), ('Films/Games', 1728), ('Techno/House', 1660), ('Film Scores', 1632)] \n",
      "\n",
      "Community  5 \n",
      " experts music taste:  ['Films/Games', 'Kids', 'Indie Rock', 'International Pop', 'Rap/Hip Hop', 'Rock', 'Pop', 'R&B', 'Contemporary R&B', 'Film Scores', 'Indie Pop', 'Alternative', 'Electro', 'Dance', 'Singer & Songwriter'] \n",
      " most popular tastes in community and their counts:  [('Pop', 4440), ('Dance', 2849), ('Rap/Hip Hop', 2558), ('Rock', 2340), ('Alternative', 2085), ('Electro', 2053), ('R&B', 1697), ('International Pop', 1514), ('Indie Rock', 1174), ('Films/Games', 1117), ('Techno/House', 1100), ('Indie Pop/Folk', 1082), ('Film Scores', 1045), ('Singer & Songwriter', 1026), ('Folk', 928)] \n",
      "\n",
      "Community  6 \n",
      " experts music taste:  ['Reggae', 'Dancefloor', 'Indie Rock', 'Indie Pop/Folk', 'Dance', 'Rap/Hip Hop', 'Pop', 'Techno/House', 'International Pop', 'Rock', 'Indie Pop', 'Alternative', 'Electro', 'Folk', 'Singer & Songwriter'] \n",
      " most popular tastes in community and their counts:  [('Pop', 737), ('Dance', 426), ('Rock', 384), ('Rap/Hip Hop', 330), ('Electro', 311), ('Alternative', 302), ('R&B', 214), ('International Pop', 204), ('Folk', 190), ('Indie Pop/Folk', 187), ('Indie Rock', 179), ('Techno/House', 169), ('Singer & Songwriter', 164), ('Films/Games', 147), ('Film Scores', 136)] \n",
      "\n",
      "Community  7 \n",
      " experts music taste:  ['Comedy', 'Dance', 'Rap/Hip Hop', 'Pop', 'International Pop', 'Techno/House', 'R&B', 'Rock', 'Electro'] \n",
      " most popular tastes in community and their counts:  [('Pop', 587), ('Dance', 347), ('Rock', 285), ('Rap/Hip Hop', 281), ('Electro', 250), ('Alternative', 216), ('R&B', 209), ('International Pop', 178), ('Folk', 147), ('Techno/House', 143), ('Indie Pop/Folk', 129), ('Indie Rock', 116), ('Singer & Songwriter', 114), ('Films/Games', 106), ('Film Scores', 101)] \n",
      "\n",
      "Community  8 \n",
      " experts music taste:  ['Rap/Hip Hop', 'Pop', 'Rock'] \n",
      " most popular tastes in community and their counts:  [('Pop', 1139), ('Dance', 639), ('Rap/Hip Hop', 520), ('Rock', 509), ('Electro', 435), ('Alternative', 405), ('R&B', 342), ('International Pop', 318), ('Folk', 307), ('Indie Pop/Folk', 261), ('Singer & Songwriter', 244), ('Techno/House', 239), ('Indie Rock', 215), ('Films/Games', 198), ('Film Scores', 188)] \n",
      "\n",
      "Community  9 \n",
      " experts music taste:  ['Indie Rock', 'Dance', 'Rap/Hip Hop', 'Contemporary R&B', 'Pop', 'Techno/House', 'R&B', 'Rock', 'Alternative', 'Electro', 'Folk', 'Singer & Songwriter'] \n",
      " most popular tastes in community and their counts:  [('Pop', 1675), ('Dance', 968), ('Rock', 932), ('Alternative', 747), ('Rap/Hip Hop', 714), ('Electro', 675), ('R&B', 525), ('International Pop', 510), ('Indie Rock', 441), ('Singer & Songwriter', 413), ('Indie Pop/Folk', 386), ('Techno/House', 374), ('Films/Games', 329), ('Folk', 321), ('Indie Pop', 315)] \n",
      "\n",
      "Community  10 \n",
      " experts music taste:  ['Dance', 'Electro', 'Folk', 'Pop', 'Indie Pop/Folk'] \n",
      " most popular tastes in community and their counts:  [('Pop', 1346), ('Dance', 760), ('Rock', 722), ('Alternative', 590), ('Rap/Hip Hop', 545), ('Electro', 542), ('R&B', 405), ('International Pop', 369), ('Indie Rock', 352), ('Indie Pop/Folk', 327), ('Folk', 300), ('Techno/House', 298), ('Singer & Songwriter', 277), ('Indie Pop', 254), ('Films/Games', 249)] \n",
      "\n",
      "Community  11 \n",
      " experts music taste:  ['Dance', 'Pop'] \n",
      " most popular tastes in community and their counts:  [('Pop', 1977), ('Dance', 1127), ('Rock', 1053), ('Rap/Hip Hop', 849), ('Alternative', 818), ('Electro', 800), ('R&B', 642), ('International Pop', 589), ('Indie Rock', 463), ('Indie Pop/Folk', 456), ('Techno/House', 422), ('Singer & Songwriter', 398), ('Films/Games', 376), ('Folk', 365), ('Film Scores', 358)] \n",
      "\n",
      "Community  12 \n",
      " experts music taste:  ['Reggae', 'Dance', 'Rap/Hip Hop', 'Contemporary R&B', 'Pop', 'International Pop', 'Techno/House', 'R&B', 'Dubstep', 'Rock', 'Latin Music', 'Alternative', 'Electro', 'Singer & Songwriter'] \n",
      " most popular tastes in community and their counts:  [('Pop', 1041), ('Dance', 549), ('Rock', 527), ('Rap/Hip Hop', 466), ('Alternative', 407), ('Electro', 402), ('R&B', 290), ('International Pop', 272), ('Indie Rock', 239), ('Indie Pop/Folk', 237), ('Folk', 236), ('Singer & Songwriter', 233), ('Techno/House', 205), ('Films/Games', 178), ('Film Scores', 169)] \n",
      "\n",
      "Community  13 \n",
      " experts music taste:  ['Films/Games', 'Dance', 'Pop', 'R&B', 'Latin Music', 'Film Scores', 'Contemporary Soul', 'Folk', 'Singer & Songwriter'] \n",
      " most popular tastes in community and their counts:  [('Pop', 1229), ('Rock', 730), ('Dance', 722), ('Alternative', 576), ('Rap/Hip Hop', 549), ('Electro', 512), ('International Pop', 367), ('R&B', 350), ('Indie Rock', 330), ('Singer & Songwriter', 318), ('Indie Pop/Folk', 313), ('Techno/House', 286), ('Films/Games', 255), ('Film Scores', 248), ('Indie Pop', 227)] \n",
      "\n",
      "Community  14 \n",
      " experts music taste:  ['Alternative', 'Rock & Roll/Rockabilly', 'Pop', 'Rock'] \n",
      " most popular tastes in community and their counts:  [('Pop', 607), ('Dance', 314), ('Rock', 312), ('Alternative', 245), ('Rap/Hip Hop', 243), ('Electro', 230), ('Indie Pop/Folk', 164), ('International Pop', 163), ('R&B', 160), ('Folk', 143), ('Indie Rock', 136), ('Singer & Songwriter', 135), ('Techno/House', 133), ('Indie Pop', 111), ('Films/Games', 103)] \n",
      "\n",
      "Community  15 \n",
      " experts music taste:  ['Pop'] \n",
      " most popular tastes in community and their counts:  [('Pop', 2147), ('Dance', 1289), ('Rock', 1086), ('Rap/Hip Hop', 1050), ('Alternative', 929), ('Electro', 909), ('R&B', 668), ('International Pop', 649), ('Techno/House', 491), ('Indie Rock', 489), ('Indie Pop/Folk', 487), ('Singer & Songwriter', 472), ('Folk', 462), ('Films/Games', 427), ('Film Scores', 408)] \n",
      "\n",
      "Community  16 \n",
      " experts music taste:  ['Kids', 'Latin Music', 'Pop'] \n",
      " most popular tastes in community and their counts:  [('Pop', 1147), ('Dance', 690), ('Rock', 631), ('Rap/Hip Hop', 515), ('Electro', 494), ('Alternative', 477), ('R&B', 392), ('International Pop', 345), ('Indie Pop/Folk', 269), ('Techno/House', 265), ('Indie Rock', 259), ('Films/Games', 236), ('Singer & Songwriter', 233), ('Film Scores', 223), ('Folk', 222)] \n",
      "\n",
      "Community  17 \n",
      " experts music taste:  ['Comedy', 'Reggae', 'Films/Games', 'Dancefloor', 'Indie Rock', 'Indie Pop/Folk', 'Dance', 'Rap/Hip Hop', 'Contemporary R&B', 'Metal', 'Pop', 'Techno/House', 'International Pop', 'Kids', 'Rock', 'Film Scores', 'R&B', 'Alternative', 'Electro', 'Indie Pop', 'Hard Rock'] \n",
      " most popular tastes in community and their counts:  [('Pop', 2826), ('Dance', 1657), ('Rock', 1436), ('Rap/Hip Hop', 1309), ('Electro', 1138), ('Alternative', 1124), ('R&B', 886), ('International Pop', 852), ('Techno/House', 646), ('Indie Pop/Folk', 584), ('Indie Rock', 576), ('Folk', 564), ('Films/Games', 518), ('Singer & Songwriter', 509), ('Film Scores', 490)] \n",
      "\n",
      "Community  18 \n",
      " experts music taste:  ['Films/Games', 'Rap/Hip Hop', 'Pop', 'Rock', 'Film Scores', 'Folk'] \n",
      " most popular tastes in community and their counts:  [('Pop', 529), ('Rock', 319), ('Dance', 285), ('Rap/Hip Hop', 219), ('Alternative', 207), ('Electro', 204), ('R&B', 161), ('International Pop', 160), ('Indie Pop/Folk', 124), ('Indie Rock', 118), ('Folk', 112), ('Techno/House', 107), ('Singer & Songwriter', 101), ('Films/Games', 97), ('Film Scores', 91)] \n",
      "\n",
      "Community  19 \n",
      " experts music taste:  ['Dance', 'Rap/Hip Hop', 'Pop', 'Disco', 'Techno/House', 'Dubstep', 'Electro'] \n",
      " most popular tastes in community and their counts:  [('Pop', 1459), ('Dance', 901), ('Rock', 827), ('Alternative', 708), ('Electro', 675), ('Rap/Hip Hop', 653), ('R&B', 479), ('International Pop', 448), ('Indie Rock', 443), ('Indie Pop/Folk', 398), ('Techno/House', 363), ('Singer & Songwriter', 356), ('Indie Pop', 321), ('Films/Games', 306), ('Folk', 301)] \n",
      "\n",
      "Community  20 \n",
      " experts music taste:  ['Indie Pop/Folk', 'Dance', 'Rap/Hip Hop', 'Pop', 'Techno/House', 'Alternative', 'Electro', 'Folk'] \n",
      " most popular tastes in community and their counts:  [('Pop', 271), ('Rock', 160), ('Dance', 144), ('Rap/Hip Hop', 130), ('Alternative', 120), ('Electro', 110), ('R&B', 89), ('International Pop', 76), ('Indie Pop/Folk', 73), ('Indie Rock', 72), ('Folk', 65), ('Singer & Songwriter', 60), ('Techno/House', 56), ('Indie Pop', 56), ('Films/Games', 53)] \n",
      "\n",
      "Community  21 \n",
      " experts music taste:  ['Hard Rock', 'Metal', 'Pop', 'Rock'] \n",
      " most popular tastes in community and their counts:  [('Pop', 155), ('Rock', 82), ('Dance', 80), ('Rap/Hip Hop', 64), ('Electro', 61), ('Alternative', 58), ('R&B', 50), ('Indie Pop/Folk', 44), ('International Pop', 42), ('Singer & Songwriter', 39), ('Techno/House', 37), ('Indie Rock', 36), ('Film Scores', 31), ('Films/Games', 31), ('Folk', 31)] \n",
      "\n",
      "Community  22 \n",
      " experts music taste:  ['Dancefloor', 'Indie Rock', 'Dance', 'Rap/Hip Hop', 'Rock', 'Pop', 'International Pop', 'Techno/House', 'R&B', 'Contemporary R&B', 'Alternative', 'Electro', 'Jazz'] \n",
      " most popular tastes in community and their counts:  [('Pop', 1382), ('Rock', 781), ('Dance', 748), ('Alternative', 580), ('Rap/Hip Hop', 530), ('Electro', 521), ('R&B', 407), ('International Pop', 385), ('Indie Pop/Folk', 364), ('Indie Rock', 337), ('Folk', 283), ('Techno/House', 266), ('Singer & Songwriter', 263), ('Films/Games', 249), ('Film Scores', 236)] \n",
      "\n",
      "Community  23 \n",
      " experts music taste:  ['Rap/Hip Hop', 'Alternative'] \n",
      " most popular tastes in community and their counts:  [('Pop', 1071), ('Dance', 647), ('Rock', 555), ('Rap/Hip Hop', 507), ('Electro', 503), ('Alternative', 471), ('R&B', 339), ('International Pop', 301), ('Indie Rock', 278), ('Techno/House', 260), ('Indie Pop/Folk', 236), ('Singer & Songwriter', 217), ('Films/Games', 211), ('Film Scores', 201), ('Folk', 192)] \n",
      "\n",
      "Community  24 \n",
      " experts music taste:  ['Films/Games', 'Dancefloor', 'Indie Rock', 'Dance', 'Pop', 'International Pop', 'Techno/House', 'R&B', 'Contemporary R&B', 'Film Scores', 'Indie Pop', 'Alternative', 'Electro', 'Folk', 'Singer & Songwriter'] \n",
      " most popular tastes in community and their counts:  [('Pop', 590), ('Dance', 328), ('Rock', 306), ('Rap/Hip Hop', 236), ('Alternative', 227), ('Electro', 214), ('Folk', 162), ('International Pop', 143), ('Indie Pop/Folk', 136), ('R&B', 136), ('Singer & Songwriter', 119), ('Techno/House', 117), ('Indie Rock', 112), ('Films/Games', 95), ('Film Scores', 89)] \n",
      "\n"
     ]
    }
   ],
   "source": [
    "for i,exp in enumerate(experts):\n",
    "    print('Community ',i,  '\\n experts music taste: ',geners_dict[exp],'\\n most popular tastes in community and their counts: ',comunity_geners[i+1].most_common(15),'\\n')"
   ]
  }
 ],
 "metadata": {
  "accelerator": "GPU",
  "colab": {
   "collapsed_sections": [],
   "name": "Untitled7.ipynb",
   "provenance": []
  },
  "kernelspec": {
   "display_name": "Python 3",
   "language": "python",
   "name": "python3"
  },
  "language_info": {
   "codemirror_mode": {
    "name": "ipython",
    "version": 3
   },
   "file_extension": ".py",
   "mimetype": "text/x-python",
   "name": "python",
   "nbconvert_exporter": "python",
   "pygments_lexer": "ipython3",
   "version": "3.8.8"
  }
 },
 "nbformat": 4,
 "nbformat_minor": 1
}
